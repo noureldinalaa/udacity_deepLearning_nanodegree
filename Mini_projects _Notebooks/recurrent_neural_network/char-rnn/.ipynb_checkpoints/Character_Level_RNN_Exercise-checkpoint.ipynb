{
 "cells": [
  {
   "cell_type": "markdown",
   "metadata": {},
   "source": [
    "# Character-Level LSTM in PyTorch\n",
    "\n",
    "In this notebook, I'll construct a character-level LSTM with PyTorch. The network will train character by character on some text, then generate new text character by character. As an example, I will train on Anna Karenina. **This model will be able to generate new text based on the text from the book!**\n",
    "\n",
    "This network is based off of Andrej Karpathy's [post on RNNs](http://karpathy.github.io/2015/05/21/rnn-effectiveness/) and [implementation in Torch](https://github.com/karpathy/char-rnn). Below is the general architecture of the character-wise RNN.\n",
    "\n",
    "<img src=\"assets/charseq.jpeg\" width=\"500\">"
   ]
  },
  {
   "cell_type": "markdown",
   "metadata": {},
   "source": [
    "First let's load in our required resources for data loading and model creation."
   ]
  },
  {
   "cell_type": "code",
   "execution_count": 1,
   "metadata": {},
   "outputs": [],
   "source": [
    "import numpy as np\n",
    "import torch\n",
    "from torch import nn\n",
    "import torch.nn.functional as F"
   ]
  },
  {
   "cell_type": "markdown",
   "metadata": {},
   "source": [
    "## Load in Data\n",
    "\n",
    "Then, we'll load the Anna Karenina text file and convert it into integers for our network to use. "
   ]
  },
  {
   "cell_type": "code",
   "execution_count": 3,
   "metadata": {},
   "outputs": [],
   "source": [
    "# open text file and read in data as `text`\n",
    "with open('data/anna.txt', 'r') as f:\n",
    "    text = f.read()"
   ]
  },
  {
   "cell_type": "markdown",
   "metadata": {},
   "source": [
    "Let's check out the first 100 characters, make sure everything is peachy. According to the [American Book Review](http://americanbookreview.org/100bestlines.asp), this is the 6th best first line of a book ever."
   ]
  },
  {
   "cell_type": "code",
   "execution_count": 4,
   "metadata": {},
   "outputs": [
    {
     "data": {
      "text/plain": [
       "'Chapter 1\\n\\n\\nHappy families are all alike; every unhappy family is unhappy in its own\\nway.\\n\\nEverythin'"
      ]
     },
     "execution_count": 4,
     "metadata": {},
     "output_type": "execute_result"
    }
   ],
   "source": [
    "text[:100]"
   ]
  },
  {
   "cell_type": "markdown",
   "metadata": {},
   "source": [
    "### Tokenization\n",
    "\n",
    "In the cells, below, I'm creating a couple **dictionaries** to convert the characters to and from integers. Encoding the characters as integers makes it easier to use as input in the network."
   ]
  },
  {
   "cell_type": "code",
   "execution_count": 5,
   "metadata": {},
   "outputs": [],
   "source": [
    "# encode the text and map each character to an integer and vice versa\n",
    "\n",
    "# we create two dictionaries:\n",
    "# 1. int2char, which maps integers to characters\n",
    "# 2. char2int, which maps characters to unique integers\n",
    "chars = tuple(set(text))\n",
    "int2char = dict(enumerate(chars))\n",
    "char2int = {ch: ii for ii, ch in int2char.items()}\n",
    "# encode the text\n",
    "encoded = np.array([char2int[ch] for ch in text])"
   ]
  },
  {
   "cell_type": "markdown",
   "metadata": {},
   "source": [
    "And we can see those same characters from above, encoded as integers."
   ]
  },
  {
   "cell_type": "code",
   "execution_count": 6,
   "metadata": {},
   "outputs": [
    {
     "data": {
      "text/plain": [
       "array([20,  6, 26, 52, 78, 70,  8, 75, 13, 56, 56, 56, 53, 26, 52, 52, 34,\n",
       "       75, 48, 26, 25, 42, 43, 42, 70, 66, 75, 26,  8, 70, 75, 26, 43, 43,\n",
       "       75, 26, 43, 42, 82, 70, 49, 75, 70,  9, 70,  8, 34, 75, 44, 73,  6,\n",
       "       26, 52, 52, 34, 75, 48, 26, 25, 42, 43, 34, 75, 42, 66, 75, 44, 73,\n",
       "        6, 26, 52, 52, 34, 75, 42, 73, 75, 42, 78, 66, 75, 60, 58, 73, 56,\n",
       "       58, 26, 34, 62, 56, 56,  1,  9, 70,  8, 34, 78,  6, 42, 73])"
      ]
     },
     "execution_count": 6,
     "metadata": {},
     "output_type": "execute_result"
    }
   ],
   "source": [
    "encoded[:100]"
   ]
  },
  {
   "cell_type": "markdown",
   "metadata": {},
   "source": [
    "## Pre-processing the data\n",
    "\n",
    "As you can see in our char-RNN image above, our LSTM expects an input that is **one-hot encoded** meaning that each character is converted into an integer (via our created dictionary) and *then* converted into a column vector where only it's corresponding integer index will have the value of 1 and the rest of the vector will be filled with 0's. Since we're one-hot encoding the data, let's make a function to do that!\n"
   ]
  },
  {
   "cell_type": "code",
   "execution_count": 7,
   "metadata": {},
   "outputs": [],
   "source": [
    "def one_hot_encode(arr, n_labels):\n",
    "    \n",
    "    # Initialize the the encoded array\n",
    "    one_hot = np.zeros((arr.size, n_labels), dtype=np.float32)\n",
    "    one_hot[np.arange(one_hot.shape[0])[0], arr.flatten()[0]]\n",
    "    #print(np.arange(one_hot.shape[0])[0])\n",
    "    #print(arr.flatten()[0])\n",
    "    #one_hot[0][3] = 1\n",
    "    #print(one_hot)\n",
    "    # Fill the appropriate elements with ones\n",
    "    one_hot[np.arange(one_hot.shape[0]), arr.flatten()] = 1.\n",
    "    # Finally reshape it to get back to the original array\n",
    "    one_hot = one_hot.reshape((*arr.shape, n_labels))\n",
    "    \n",
    "    return one_hot"
   ]
  },
  {
   "cell_type": "code",
   "execution_count": 8,
   "metadata": {},
   "outputs": [
    {
     "name": "stdout",
     "output_type": "stream",
     "text": [
      "[[[0. 0. 0. 1. 0. 0. 0. 0.]\n",
      "  [0. 0. 0. 0. 0. 1. 0. 0.]\n",
      "  [0. 1. 0. 0. 0. 0. 0. 0.]]]\n"
     ]
    }
   ],
   "source": [
    "# check that the function works as expected\n",
    "test_seq = np.array([[3, 5, 1]])\n",
    "one_hot = one_hot_encode(test_seq, 8)\n",
    "\n",
    "print(one_hot)"
   ]
  },
  {
   "cell_type": "markdown",
   "metadata": {},
   "source": [
    "## Making training mini-batches\n",
    "\n",
    "\n",
    "To train on this data, we also want to create mini-batches for training. Remember that we want our batches to be multiple sequences of some desired number of sequence steps. Considering a simple example, our batches would look like this:\n",
    "\n",
    "<img src=\"assets/sequence_batching@1x.png\" width=500px>\n",
    "\n",
    "\n",
    "<br>\n",
    "\n",
    "In this example, we'll take the encoded characters (passed in as the `arr` parameter) and split them into multiple sequences, given by `batch_size`. Each of our sequences will be `seq_length` long.\n",
    "\n",
    "### Creating Batches\n",
    "\n",
    "**1. The first thing we need to do is discard some of the text so we only have completely full mini-batches. **\n",
    "\n",
    "Each batch contains $N \\times M$ characters, where $N$ is the batch size (the number of sequences in a batch) and $M$ is the seq_length or number of time steps in a sequence. Then, to get the total number of batches, $K$, that we can make from the array `arr`, you divide the length of `arr` by the number of characters per batch. Once you know the number of batches, you can get the total number of characters to keep from `arr`, $N * M * K$.\n",
    "\n",
    "**2. After that, we need to split `arr` into $N$ batches. ** \n",
    "\n",
    "You can do this using `arr.reshape(size)` where `size` is a tuple containing the dimensions sizes of the reshaped array. We know we want $N$ sequences in a batch, so let's make that the size of the first dimension. For the second dimension, you can use `-1` as a placeholder in the size, it'll fill up the array with the appropriate data for you. After this, you should have an array that is $N \\times (M * K)$.\n",
    "\n",
    "**3. Now that we have this array, we can iterate through it to get our mini-batches. **\n",
    "\n",
    "The idea is each batch is a $N \\times M$ window on the $N \\times (M * K)$ array. For each subsequent batch, the window moves over by `seq_length`. We also want to create both the input and target arrays. Remember that the targets are just the inputs shifted over by one character. The way I like to do this window is use `range` to take steps of size `n_steps` from $0$ to `arr.shape[1]`, the total number of tokens in each sequence. That way, the integers you get from `range` always point to the start of a batch, and each window is `seq_length` wide.\n",
    "\n",
    "> **TODO:** Write the code for creating batches in the function below. The exercises in this notebook _will not be easy_. I've provided a notebook with solutions alongside this notebook. If you get stuck, checkout the solutions. The most important thing is that you don't copy and paste the code into here, **type out the solution code yourself.**"
   ]
  },
  {
   "cell_type": "code",
   "execution_count": 9,
   "metadata": {},
   "outputs": [],
   "source": [
    "def get_batches(arr, batch_size, seq_length):\n",
    "    '''Create a generator that returns batches of size\n",
    "       batch_size x seq_length from arr.\n",
    "       \n",
    "       Arguments\n",
    "       ---------\n",
    "       arr: Array you want to make batches from\n",
    "       batch_size: Batch size, the number of sequences per batch\n",
    "       seq_length: Number of encoded chars in a sequence\n",
    "    '''\n",
    "    \n",
    "    ## TODO: Get the number of batches we can make\n",
    "    batch_size_total = batch_size * seq_length\n",
    "    n_batches = len(arr) // batch_size_total\n",
    "    #print(n_batches)\n",
    "    \n",
    "    ## TODO: Keep only enough characters to make full batches\n",
    "    arr = arr[:n_batches*batch_size_total]\n",
    "    \n",
    "    #print(arr[:n_batches*batch_size_total])\n",
    "    #print(len(arr))\n",
    "    \n",
    "    ## TODO: Reshape into batch_size rows\n",
    "    \n",
    "    #print(arr.shape)\n",
    "    \n",
    "    arr = arr.reshape((batch_size,-1))#(N x (M*K))--(batch_size x (seq_length * no.batches))\n",
    "    \n",
    "    #print(arr.shape)\n",
    "    #print(arr)\n",
    "    \n",
    "    ## TODO: Iterate over the batches using a window of size seq_length\n",
    "    for n in range(0, arr.shape[1], seq_length):\n",
    "        # The features\n",
    "        x = arr[:,n:n+seq_length] \n",
    "        # The targets, shifted by one\n",
    "        y = np.zeros_like(x)\n",
    "        try:\n",
    "            y[:,:-1],y[:,-1] = x [:,1:],arr[:,n+seq_length]\n",
    "            #print(y)\n",
    "        except IndexError:\n",
    "            y[:, :-1], y[:, -1] = x[:, 1:], arr[:, 0]\n",
    "        yield x, y"
   ]
  },
  {
   "cell_type": "markdown",
   "metadata": {},
   "source": [
    "### Test Your Implementation\n",
    "\n",
    "Now I'll make some data sets and we can check out what's going on as we batch data. Here, as an example, I'm going to use a batch size of 8 and 50 sequence steps."
   ]
  },
  {
   "cell_type": "code",
   "execution_count": 10,
   "metadata": {},
   "outputs": [],
   "source": [
    "batches = get_batches(encoded, 8, 50)\n",
    "x, y = next(batches)"
   ]
  },
  {
   "cell_type": "code",
   "execution_count": 11,
   "metadata": {},
   "outputs": [
    {
     "name": "stdout",
     "output_type": "stream",
     "text": [
      "x\n",
      " [[20  6 26 52 78 70  8 75 13 56]\n",
      " [66 60 73 75 78  6 26 78 75 26]\n",
      " [70 73 24 75 60  8 75 26 75 48]\n",
      " [66 75 78  6 70 75 45  6 42 70]\n",
      " [75 66 26 58 75  6 70  8 75 78]\n",
      " [45 44 66 66 42 60 73 75 26 73]\n",
      " [75 51 73 73 26 75  6 26 24 75]\n",
      " [39 64 43 60 73 66 82 34 62 75]]\n",
      "\n",
      "y\n",
      " [[ 6 26 52 78 70  8 75 13 56 56]\n",
      " [60 73 75 78  6 26 78 75 26 78]\n",
      " [73 24 75 60  8 75 26 75 48 60]\n",
      " [75 78  6 70 75 45  6 42 70 48]\n",
      " [66 26 58 75  6 70  8 75 78 70]\n",
      " [44 66 66 42 60 73 75 26 73 24]\n",
      " [51 73 73 26 75  6 26 24 75 66]\n",
      " [64 43 60 73 66 82 34 62 75 79]]\n"
     ]
    }
   ],
   "source": [
    "# printing out the first 10 items in a sequence\n",
    "print('x\\n', x[:10, :10])\n",
    "print('\\ny\\n', y[:10, :10])"
   ]
  },
  {
   "cell_type": "markdown",
   "metadata": {},
   "source": [
    "If you implemented `get_batches` correctly, the above output should look something like \n",
    "```\n",
    "x\n",
    " [[25  8 60 11 45 27 28 73  1  2]\n",
    " [17  7 20 73 45  8 60 45 73 60]\n",
    " [27 20 80 73  7 28 73 60 73 65]\n",
    " [17 73 45  8 27 73 66  8 46 27]\n",
    " [73 17 60 12 73  8 27 28 73 45]\n",
    " [66 64 17 17 46  7 20 73 60 20]\n",
    " [73 76 20 20 60 73  8 60 80 73]\n",
    " [47 35 43  7 20 17 24 50 37 73]]\n",
    "\n",
    "y\n",
    " [[ 8 60 11 45 27 28 73  1  2  2]\n",
    " [ 7 20 73 45  8 60 45 73 60 45]\n",
    " [20 80 73  7 28 73 60 73 65  7]\n",
    " [73 45  8 27 73 66  8 46 27 65]\n",
    " [17 60 12 73  8 27 28 73 45 27]\n",
    " [64 17 17 46  7 20 73 60 20 80]\n",
    " [76 20 20 60 73  8 60 80 73 17]\n",
    " [35 43  7 20 17 24 50 37 73 36]]\n",
    " ```\n",
    " although the exact numbers may be different. Check to make sure the data is shifted over one step for `y`."
   ]
  },
  {
   "cell_type": "markdown",
   "metadata": {},
   "source": [
    "---\n",
    "## Defining the network with PyTorch\n",
    "\n",
    "Below is where you'll define the network.\n",
    "\n",
    "<img src=\"assets/charRNN.png\" width=500px>\n",
    "\n",
    "Next, you'll use PyTorch to define the architecture of the network. We start by defining the layers and operations we want. Then, define a method for the forward pass. You've also been given a method for predicting characters."
   ]
  },
  {
   "cell_type": "markdown",
   "metadata": {},
   "source": [
    "### Model Structure\n",
    "\n",
    "In `__init__` the suggested structure is as follows:\n",
    "* Create and store the necessary dictionaries (this has been done for you)\n",
    "* Define an LSTM layer that takes as params: an input size (the number of characters), a hidden layer size `n_hidden`, a number of layers `n_layers`, a dropout probability `drop_prob`, and a batch_first boolean (True, since we are batching)\n",
    "* Define a dropout layer with `drop_prob`\n",
    "* Define a fully-connected layer with params: input size `n_hidden` and output size (the number of characters)\n",
    "* Finally, initialize the weights (again, this has been given)\n",
    "\n",
    "Note that some parameters have been named and given in the `__init__` function, and we use them and store them by doing something like `self.drop_prob = drop_prob`."
   ]
  },
  {
   "cell_type": "markdown",
   "metadata": {},
   "source": [
    "---\n",
    "### LSTM Inputs/Outputs\n",
    "\n",
    "You can create a basic [LSTM layer](https://pytorch.org/docs/stable/nn.html#lstm) as follows\n",
    "\n",
    "```python\n",
    "self.lstm = nn.LSTM(input_size, n_hidden, n_layers, \n",
    "                            dropout=drop_prob, batch_first=True)\n",
    "```\n",
    "\n",
    "where `input_size` is the number of characters this cell expects to see as sequential input, and `n_hidden` is the number of units in the hidden layers in the cell. And we can add dropout by adding a dropout parameter with a specified probability; this will automatically add dropout to the inputs or outputs. Finally, in the `forward` function, we can stack up the LSTM cells into layers using `.view`. With this, you pass in a list of cells and it will send the output of one cell into the next cell.\n",
    "\n",
    "We also need to create an initial hidden state of all zeros. This is done like so\n",
    "\n",
    "```python\n",
    "self.init_hidden()\n",
    "```"
   ]
  },
  {
   "cell_type": "code",
   "execution_count": 12,
   "metadata": {},
   "outputs": [
    {
     "name": "stdout",
     "output_type": "stream",
     "text": [
      "Training on GPU!\n"
     ]
    }
   ],
   "source": [
    "# check if GPU is available\n",
    "train_on_gpu = torch.cuda.is_available()\n",
    "if(train_on_gpu):\n",
    "    print('Training on GPU!')\n",
    "else: \n",
    "    print('No GPU available, training on CPU; consider making n_epochs very small.')"
   ]
  },
  {
   "cell_type": "code",
   "execution_count": 13,
   "metadata": {},
   "outputs": [],
   "source": [
    "class CharRNN(nn.Module):\n",
    "    \n",
    "    def __init__(self, tokens, n_hidden=256, n_layers=2,\n",
    "                               drop_prob=0.5, lr=0.001):\n",
    "        super().__init__()\n",
    "        self.drop_prob = drop_prob\n",
    "        self.n_layers = n_layers\n",
    "        self.n_hidden = n_hidden\n",
    "        self.lr = lr\n",
    "        \n",
    "        # creating character dictionaries\n",
    "        self.chars = tokens\n",
    "        self.int2char = dict(enumerate(self.chars))\n",
    "        self.char2int = {ch: ii for ii, ch in self.int2char.items()}\n",
    "        \n",
    "        ## TODO: define the layers of the model\n",
    "        self.lstm = nn.LSTM(len(self.chars),n_hidden,n_layers,dropout=drop_prob,batch_first=True)\n",
    "        self.dropout = nn.Dropout(drop_prob)\n",
    "        self.fc = nn.Linear(n_hidden,len(self.chars))\n",
    "    def forward(self, x, hidden):\n",
    "        ''' Forward pass through the network. \n",
    "            These inputs are x, and the hidden/cell state `hidden`. '''\n",
    "                \n",
    "        ## TODO: Get the outputs and the new hidden state from the lstm\n",
    "        output , hidden = self.lstm(x,hidden)\n",
    "        out = self.dropout(output)\n",
    "        # Stack up LSTM outputs using view\n",
    "        # you may need to use contiguous to reshape the output\n",
    "        #print(out.shape)\n",
    "        out = out.contiguous().view(-1,self.n_hidden)\n",
    "        #print(out.shape)\n",
    "        \n",
    "        out= self.fc(out)\n",
    "        \n",
    "        # return the final output and the hidden state\n",
    "        return out, hidden\n",
    "    \n",
    "    \n",
    "    def init_hidden(self, batch_size):\n",
    "        ''' Initializes hidden state '''\n",
    "        # Create two new tensors with sizes n_layers x batch_size x n_hidden,\n",
    "        # initialized to zero, for hidden state and cell state of LSTM\n",
    "        weight = next(self.parameters()).data\n",
    "        \n",
    "        if (train_on_gpu):\n",
    "            hidden = (weight.new(self.n_layers, batch_size, self.n_hidden).zero_().cuda(),\n",
    "                  weight.new(self.n_layers, batch_size, self.n_hidden).zero_().cuda())\n",
    "        else:\n",
    "            hidden = (weight.new(self.n_layers, batch_size, self.n_hidden).zero_(),\n",
    "                      weight.new(self.n_layers, batch_size, self.n_hidden).zero_())\n",
    "        \n",
    "        return hidden\n",
    "        "
   ]
  },
  {
   "cell_type": "markdown",
   "metadata": {},
   "source": [
    "## Time to train\n",
    "\n",
    "The train function gives us the ability to set the number of epochs, the learning rate, and other parameters.\n",
    "\n",
    "Below we're using an Adam optimizer and cross entropy loss since we are looking at character class scores as output. We calculate the loss and perform backpropagation, as usual!\n",
    "\n",
    "A couple of details about training: \n",
    ">* Within the batch loop, we detach the hidden state from its history; this time setting it equal to a new *tuple* variable because an LSTM has a hidden state that is a tuple of the hidden and cell states.\n",
    "* We use [`clip_grad_norm_`](https://pytorch.org/docs/stable/_modules/torch/nn/utils/clip_grad.html) to help prevent exploding gradients."
   ]
  },
  {
   "cell_type": "code",
   "execution_count": 14,
   "metadata": {},
   "outputs": [],
   "source": [
    "def train(net, data, epochs=10, batch_size=10, seq_length=50, lr=0.001, clip=5, val_frac=0.1, print_every=10):\n",
    "    ''' Training a network \n",
    "    \n",
    "        Arguments\n",
    "        ---------\n",
    "        \n",
    "        net: CharRNN network\n",
    "        data: text data to train the network\n",
    "        epochs: Number of epochs to train\n",
    "        batch_size: Number of mini-sequences per mini-batch, aka batch size\n",
    "        seq_length: Number of character steps per mini-batch\n",
    "        lr: learning rate\n",
    "        clip: gradient clipping\n",
    "        val_frac: Fraction of data to hold out for validation\n",
    "        print_every: Number of steps for printing training and validation loss\n",
    "    \n",
    "    '''\n",
    "    net.train()\n",
    "    \n",
    "    opt = torch.optim.Adam(net.parameters(), lr=lr)\n",
    "    criterion = nn.CrossEntropyLoss()\n",
    "    \n",
    "    # create training and validation data\n",
    "    val_idx = int(len(data)*(1-val_frac))\n",
    "    data, val_data = data[:val_idx], data[val_idx:]\n",
    "    \n",
    "    if(train_on_gpu):\n",
    "        net.cuda()\n",
    "    \n",
    "    counter = 0\n",
    "    n_chars = len(net.chars)\n",
    "    for e in range(epochs):\n",
    "        # initialize hidden state\n",
    "        h = net.init_hidden(batch_size)\n",
    "        \n",
    "        for x, y in get_batches(data, batch_size, seq_length):\n",
    "            counter += 1\n",
    "            \n",
    "            # One-hot encode our data and make them Torch tensors\n",
    "            x = one_hot_encode(x, n_chars)\n",
    "            inputs, targets = torch.from_numpy(x), torch.from_numpy(y)\n",
    "            \n",
    "            if(train_on_gpu):\n",
    "                inputs, targets = inputs.cuda(), targets.cuda()\n",
    "\n",
    "            # Creating new variables for the hidden state, otherwise\n",
    "            # we'd backprop through the entire training history\n",
    "            h = tuple([each.data for each in h])\n",
    "\n",
    "            # zero accumulated gradients\n",
    "            net.zero_grad()\n",
    "            \n",
    "            # get the output from the model\n",
    "            output, h = net(inputs, h)\n",
    "            \n",
    "            # calculate the loss and perform backprop\n",
    "            loss = criterion(output, targets.view(batch_size*seq_length).long())\n",
    "            loss.backward()\n",
    "            # `clip_grad_norm` helps prevent the exploding gradient problem in RNNs / LSTMs.\n",
    "            nn.utils.clip_grad_norm_(net.parameters(), clip)\n",
    "            opt.step()\n",
    "            \n",
    "            # loss stats\n",
    "            if counter % print_every == 0:\n",
    "                # Get validation loss\n",
    "                val_h = net.init_hidden(batch_size)\n",
    "                val_losses = []\n",
    "                net.eval()\n",
    "                for x, y in get_batches(val_data, batch_size, seq_length):\n",
    "                    # One-hot encode our data and make them Torch tensors\n",
    "                    x = one_hot_encode(x, n_chars)\n",
    "                    x, y = torch.from_numpy(x), torch.from_numpy(y)\n",
    "                    \n",
    "                    # Creating new variables for the hidden state, otherwise\n",
    "                    # we'd backprop through the entire training history\n",
    "                    val_h = tuple([each.data for each in val_h])\n",
    "                    \n",
    "                    inputs, targets = x, y\n",
    "                    if(train_on_gpu):\n",
    "                        inputs, targets = inputs.cuda(), targets.cuda()\n",
    "\n",
    "                    output, val_h = net(inputs, val_h)\n",
    "                    val_loss = criterion(output, targets.view(batch_size*seq_length).long())\n",
    "                \n",
    "                    val_losses.append(val_loss.item())\n",
    "                \n",
    "                net.train() # reset to train mode after iterationg through validation data\n",
    "                \n",
    "                print(\"Epoch: {}/{}...\".format(e+1, epochs),\n",
    "                      \"Step: {}...\".format(counter),\n",
    "                      \"Loss: {:.4f}...\".format(loss.item()),\n",
    "                      \"Val Loss: {:.4f}\".format(np.mean(val_losses)))"
   ]
  },
  {
   "cell_type": "markdown",
   "metadata": {},
   "source": [
    "## Instantiating the model\n",
    "\n",
    "Now we can actually train the network. First we'll create the network itself, with some given hyperparameters. Then, define the mini-batches sizes, and start training!"
   ]
  },
  {
   "cell_type": "code",
   "execution_count": 15,
   "metadata": {},
   "outputs": [
    {
     "name": "stdout",
     "output_type": "stream",
     "text": [
      "CharRNN(\n",
      "  (lstm): LSTM(83, 512, num_layers=2, batch_first=True, dropout=0.5)\n",
      "  (dropout): Dropout(p=0.5, inplace=False)\n",
      "  (fc): Linear(in_features=512, out_features=83, bias=True)\n",
      ")\n"
     ]
    }
   ],
   "source": [
    "## TODO: set your model hyperparameters\n",
    "# define and print the net\n",
    "n_hidden=512\n",
    "n_layers=2\n",
    "\n",
    "net = CharRNN(chars, n_hidden, n_layers)\n",
    "print(net)"
   ]
  },
  {
   "cell_type": "markdown",
   "metadata": {},
   "source": [
    "### Set your training hyperparameters!"
   ]
  },
  {
   "cell_type": "code",
   "execution_count": 16,
   "metadata": {
    "scrolled": true
   },
   "outputs": [
    {
     "name": "stdout",
     "output_type": "stream",
     "text": [
      "Epoch: 1/20... Step: 10... Loss: 3.2963... Val Loss: 3.2427\n",
      "Epoch: 1/20... Step: 20... Loss: 3.1650... Val Loss: 3.1476\n",
      "Epoch: 1/20... Step: 30... Loss: 3.1493... Val Loss: 3.1275\n",
      "Epoch: 1/20... Step: 40... Loss: 3.1146... Val Loss: 3.1202\n",
      "Epoch: 1/20... Step: 50... Loss: 3.1427... Val Loss: 3.1183\n",
      "Epoch: 1/20... Step: 60... Loss: 3.1181... Val Loss: 3.1166\n",
      "Epoch: 1/20... Step: 70... Loss: 3.1099... Val Loss: 3.1154\n",
      "Epoch: 1/20... Step: 80... Loss: 3.1270... Val Loss: 3.1128\n",
      "Epoch: 1/20... Step: 90... Loss: 3.1222... Val Loss: 3.1066\n",
      "Epoch: 1/20... Step: 100... Loss: 3.1019... Val Loss: 3.0929\n",
      "Epoch: 1/20... Step: 110... Loss: 3.0823... Val Loss: 3.0647\n",
      "Epoch: 1/20... Step: 120... Loss: 2.9899... Val Loss: 2.9768\n",
      "Epoch: 1/20... Step: 130... Loss: 2.9079... Val Loss: 2.8767\n",
      "Epoch: 2/20... Step: 140... Loss: 2.7974... Val Loss: 2.7333\n",
      "Epoch: 2/20... Step: 150... Loss: 2.6664... Val Loss: 2.6257\n",
      "Epoch: 2/20... Step: 160... Loss: 2.5830... Val Loss: 2.5491\n",
      "Epoch: 2/20... Step: 170... Loss: 2.5053... Val Loss: 2.4920\n",
      "Epoch: 2/20... Step: 180... Loss: 2.4791... Val Loss: 2.4462\n",
      "Epoch: 2/20... Step: 190... Loss: 2.4272... Val Loss: 2.4101\n",
      "Epoch: 2/20... Step: 200... Loss: 2.4405... Val Loss: 2.3884\n",
      "Epoch: 2/20... Step: 210... Loss: 2.3772... Val Loss: 2.3634\n",
      "Epoch: 2/20... Step: 220... Loss: 2.3442... Val Loss: 2.3348\n",
      "Epoch: 2/20... Step: 230... Loss: 2.3349... Val Loss: 2.2967\n",
      "Epoch: 2/20... Step: 240... Loss: 2.3044... Val Loss: 2.2689\n",
      "Epoch: 2/20... Step: 250... Loss: 2.2495... Val Loss: 2.2456\n",
      "Epoch: 2/20... Step: 260... Loss: 2.2210... Val Loss: 2.2135\n",
      "Epoch: 2/20... Step: 270... Loss: 2.2277... Val Loss: 2.1977\n",
      "Epoch: 3/20... Step: 280... Loss: 2.2154... Val Loss: 2.1684\n",
      "Epoch: 3/20... Step: 290... Loss: 2.1879... Val Loss: 2.1446\n",
      "Epoch: 3/20... Step: 300... Loss: 2.1563... Val Loss: 2.1244\n",
      "Epoch: 3/20... Step: 310... Loss: 2.1219... Val Loss: 2.1044\n",
      "Epoch: 3/20... Step: 320... Loss: 2.0956... Val Loss: 2.0776\n",
      "Epoch: 3/20... Step: 330... Loss: 2.0675... Val Loss: 2.0706\n",
      "Epoch: 3/20... Step: 340... Loss: 2.0827... Val Loss: 2.0478\n",
      "Epoch: 3/20... Step: 350... Loss: 2.0720... Val Loss: 2.0249\n",
      "Epoch: 3/20... Step: 360... Loss: 1.9943... Val Loss: 2.0095\n",
      "Epoch: 3/20... Step: 370... Loss: 2.0207... Val Loss: 1.9935\n",
      "Epoch: 3/20... Step: 380... Loss: 1.9925... Val Loss: 1.9730\n",
      "Epoch: 3/20... Step: 390... Loss: 1.9672... Val Loss: 1.9588\n",
      "Epoch: 3/20... Step: 400... Loss: 1.9493... Val Loss: 1.9445\n",
      "Epoch: 3/20... Step: 410... Loss: 1.9604... Val Loss: 1.9301\n",
      "Epoch: 4/20... Step: 420... Loss: 1.9453... Val Loss: 1.9137\n",
      "Epoch: 4/20... Step: 430... Loss: 1.9313... Val Loss: 1.8977\n",
      "Epoch: 4/20... Step: 440... Loss: 1.9119... Val Loss: 1.8860\n",
      "Epoch: 4/20... Step: 450... Loss: 1.8526... Val Loss: 1.8687\n",
      "Epoch: 4/20... Step: 460... Loss: 1.8394... Val Loss: 1.8550\n",
      "Epoch: 4/20... Step: 470... Loss: 1.8725... Val Loss: 1.8483\n",
      "Epoch: 4/20... Step: 480... Loss: 1.8561... Val Loss: 1.8336\n",
      "Epoch: 4/20... Step: 490... Loss: 1.8606... Val Loss: 1.8239\n",
      "Epoch: 4/20... Step: 500... Loss: 1.8534... Val Loss: 1.8131\n",
      "Epoch: 4/20... Step: 510... Loss: 1.8275... Val Loss: 1.8000\n",
      "Epoch: 4/20... Step: 520... Loss: 1.8389... Val Loss: 1.7930\n",
      "Epoch: 4/20... Step: 530... Loss: 1.8033... Val Loss: 1.7811\n",
      "Epoch: 4/20... Step: 540... Loss: 1.7707... Val Loss: 1.7729\n",
      "Epoch: 4/20... Step: 550... Loss: 1.7989... Val Loss: 1.7609\n",
      "Epoch: 5/20... Step: 560... Loss: 1.7704... Val Loss: 1.7581\n",
      "Epoch: 5/20... Step: 570... Loss: 1.7567... Val Loss: 1.7422\n",
      "Epoch: 5/20... Step: 580... Loss: 1.7369... Val Loss: 1.7343\n",
      "Epoch: 5/20... Step: 590... Loss: 1.7508... Val Loss: 1.7246\n",
      "Epoch: 5/20... Step: 600... Loss: 1.7309... Val Loss: 1.7150\n",
      "Epoch: 5/20... Step: 610... Loss: 1.7159... Val Loss: 1.7082\n",
      "Epoch: 5/20... Step: 620... Loss: 1.7178... Val Loss: 1.7025\n",
      "Epoch: 5/20... Step: 630... Loss: 1.7303... Val Loss: 1.6949\n",
      "Epoch: 5/20... Step: 640... Loss: 1.6949... Val Loss: 1.6877\n",
      "Epoch: 5/20... Step: 650... Loss: 1.6882... Val Loss: 1.6766\n",
      "Epoch: 5/20... Step: 660... Loss: 1.6647... Val Loss: 1.6756\n",
      "Epoch: 5/20... Step: 670... Loss: 1.6901... Val Loss: 1.6707\n",
      "Epoch: 5/20... Step: 680... Loss: 1.6923... Val Loss: 1.6591\n",
      "Epoch: 5/20... Step: 690... Loss: 1.6588... Val Loss: 1.6487\n",
      "Epoch: 6/20... Step: 700... Loss: 1.6641... Val Loss: 1.6481\n",
      "Epoch: 6/20... Step: 710... Loss: 1.6562... Val Loss: 1.6343\n",
      "Epoch: 6/20... Step: 720... Loss: 1.6408... Val Loss: 1.6318\n",
      "Epoch: 6/20... Step: 730... Loss: 1.6525... Val Loss: 1.6263\n",
      "Epoch: 6/20... Step: 740... Loss: 1.6153... Val Loss: 1.6229\n",
      "Epoch: 6/20... Step: 750... Loss: 1.6065... Val Loss: 1.6137\n",
      "Epoch: 6/20... Step: 760... Loss: 1.6495... Val Loss: 1.6128\n",
      "Epoch: 6/20... Step: 770... Loss: 1.6137... Val Loss: 1.6072\n",
      "Epoch: 6/20... Step: 780... Loss: 1.6064... Val Loss: 1.5999\n",
      "Epoch: 6/20... Step: 790... Loss: 1.5861... Val Loss: 1.5939\n",
      "Epoch: 6/20... Step: 800... Loss: 1.6126... Val Loss: 1.5895\n",
      "Epoch: 6/20... Step: 810... Loss: 1.5949... Val Loss: 1.5863\n",
      "Epoch: 6/20... Step: 820... Loss: 1.5596... Val Loss: 1.5777\n",
      "Epoch: 6/20... Step: 830... Loss: 1.5994... Val Loss: 1.5729\n",
      "Epoch: 7/20... Step: 840... Loss: 1.5538... Val Loss: 1.5714\n",
      "Epoch: 7/20... Step: 850... Loss: 1.5714... Val Loss: 1.5656\n",
      "Epoch: 7/20... Step: 860... Loss: 1.5567... Val Loss: 1.5604\n",
      "Epoch: 7/20... Step: 870... Loss: 1.5732... Val Loss: 1.5571\n",
      "Epoch: 7/20... Step: 880... Loss: 1.5636... Val Loss: 1.5567\n",
      "Epoch: 7/20... Step: 890... Loss: 1.5572... Val Loss: 1.5504\n",
      "Epoch: 7/20... Step: 900... Loss: 1.5435... Val Loss: 1.5434\n",
      "Epoch: 7/20... Step: 910... Loss: 1.5177... Val Loss: 1.5411\n",
      "Epoch: 7/20... Step: 920... Loss: 1.5385... Val Loss: 1.5354\n",
      "Epoch: 7/20... Step: 930... Loss: 1.5277... Val Loss: 1.5316\n",
      "Epoch: 7/20... Step: 940... Loss: 1.5366... Val Loss: 1.5313\n",
      "Epoch: 7/20... Step: 950... Loss: 1.5378... Val Loss: 1.5226\n",
      "Epoch: 7/20... Step: 960... Loss: 1.5376... Val Loss: 1.5201\n",
      "Epoch: 7/20... Step: 970... Loss: 1.5411... Val Loss: 1.5188\n",
      "Epoch: 8/20... Step: 980... Loss: 1.5103... Val Loss: 1.5152\n",
      "Epoch: 8/20... Step: 990... Loss: 1.5080... Val Loss: 1.5096\n",
      "Epoch: 8/20... Step: 1000... Loss: 1.5061... Val Loss: 1.5073\n",
      "Epoch: 8/20... Step: 1010... Loss: 1.5456... Val Loss: 1.5069\n",
      "Epoch: 8/20... Step: 1020... Loss: 1.5242... Val Loss: 1.5024\n",
      "Epoch: 8/20... Step: 1030... Loss: 1.4954... Val Loss: 1.4987\n",
      "Epoch: 8/20... Step: 1040... Loss: 1.5033... Val Loss: 1.4991\n",
      "Epoch: 8/20... Step: 1050... Loss: 1.4896... Val Loss: 1.4914\n",
      "Epoch: 8/20... Step: 1060... Loss: 1.4877... Val Loss: 1.4868\n",
      "Epoch: 8/20... Step: 1070... Loss: 1.4926... Val Loss: 1.4856\n",
      "Epoch: 8/20... Step: 1080... Loss: 1.4886... Val Loss: 1.4845\n",
      "Epoch: 8/20... Step: 1090... Loss: 1.4763... Val Loss: 1.4781\n",
      "Epoch: 8/20... Step: 1100... Loss: 1.4645... Val Loss: 1.4751\n",
      "Epoch: 8/20... Step: 1110... Loss: 1.4780... Val Loss: 1.4733\n",
      "Epoch: 9/20... Step: 1120... Loss: 1.4870... Val Loss: 1.4731\n",
      "Epoch: 9/20... Step: 1130... Loss: 1.4749... Val Loss: 1.4673\n",
      "Epoch: 9/20... Step: 1140... Loss: 1.4744... Val Loss: 1.4639\n",
      "Epoch: 9/20... Step: 1150... Loss: 1.4848... Val Loss: 1.4644\n",
      "Epoch: 9/20... Step: 1160... Loss: 1.4513... Val Loss: 1.4610\n",
      "Epoch: 9/20... Step: 1170... Loss: 1.4513... Val Loss: 1.4595\n",
      "Epoch: 9/20... Step: 1180... Loss: 1.4439... Val Loss: 1.4653\n",
      "Epoch: 9/20... Step: 1190... Loss: 1.4762... Val Loss: 1.4544\n",
      "Epoch: 9/20... Step: 1200... Loss: 1.4346... Val Loss: 1.4528\n",
      "Epoch: 9/20... Step: 1210... Loss: 1.4324... Val Loss: 1.4507\n",
      "Epoch: 9/20... Step: 1220... Loss: 1.4434... Val Loss: 1.4488\n",
      "Epoch: 9/20... Step: 1230... Loss: 1.4141... Val Loss: 1.4436\n",
      "Epoch: 9/20... Step: 1240... Loss: 1.4336... Val Loss: 1.4419\n",
      "Epoch: 9/20... Step: 1250... Loss: 1.4445... Val Loss: 1.4413\n",
      "Epoch: 10/20... Step: 1260... Loss: 1.4455... Val Loss: 1.4384\n",
      "Epoch: 10/20... Step: 1270... Loss: 1.4412... Val Loss: 1.4350\n",
      "Epoch: 10/20... Step: 1280... Loss: 1.4450... Val Loss: 1.4311\n",
      "Epoch: 10/20... Step: 1290... Loss: 1.4303... Val Loss: 1.4317\n",
      "Epoch: 10/20... Step: 1300... Loss: 1.4193... Val Loss: 1.4278\n",
      "Epoch: 10/20... Step: 1310... Loss: 1.4318... Val Loss: 1.4273\n",
      "Epoch: 10/20... Step: 1320... Loss: 1.3995... Val Loss: 1.4270\n",
      "Epoch: 10/20... Step: 1330... Loss: 1.4031... Val Loss: 1.4260\n",
      "Epoch: 10/20... Step: 1340... Loss: 1.3898... Val Loss: 1.4234\n"
     ]
    },
    {
     "name": "stdout",
     "output_type": "stream",
     "text": [
      "Epoch: 10/20... Step: 1350... Loss: 1.3885... Val Loss: 1.4202\n",
      "Epoch: 10/20... Step: 1360... Loss: 1.3949... Val Loss: 1.4223\n",
      "Epoch: 10/20... Step: 1370... Loss: 1.3864... Val Loss: 1.4196\n",
      "Epoch: 10/20... Step: 1380... Loss: 1.4228... Val Loss: 1.4148\n",
      "Epoch: 10/20... Step: 1390... Loss: 1.4320... Val Loss: 1.4144\n",
      "Epoch: 11/20... Step: 1400... Loss: 1.4380... Val Loss: 1.4119\n",
      "Epoch: 11/20... Step: 1410... Loss: 1.4446... Val Loss: 1.4097\n",
      "Epoch: 11/20... Step: 1420... Loss: 1.4222... Val Loss: 1.4062\n",
      "Epoch: 11/20... Step: 1430... Loss: 1.3900... Val Loss: 1.4095\n",
      "Epoch: 11/20... Step: 1440... Loss: 1.4199... Val Loss: 1.4054\n",
      "Epoch: 11/20... Step: 1450... Loss: 1.3499... Val Loss: 1.4028\n",
      "Epoch: 11/20... Step: 1460... Loss: 1.3730... Val Loss: 1.4043\n",
      "Epoch: 11/20... Step: 1470... Loss: 1.3621... Val Loss: 1.4032\n",
      "Epoch: 11/20... Step: 1480... Loss: 1.3929... Val Loss: 1.3988\n",
      "Epoch: 11/20... Step: 1490... Loss: 1.3832... Val Loss: 1.3976\n",
      "Epoch: 11/20... Step: 1500... Loss: 1.3592... Val Loss: 1.3987\n",
      "Epoch: 11/20... Step: 1510... Loss: 1.3462... Val Loss: 1.3950\n",
      "Epoch: 11/20... Step: 1520... Loss: 1.3828... Val Loss: 1.3925\n",
      "Epoch: 12/20... Step: 1530... Loss: 1.4365... Val Loss: 1.3916\n",
      "Epoch: 12/20... Step: 1540... Loss: 1.3843... Val Loss: 1.3880\n",
      "Epoch: 12/20... Step: 1550... Loss: 1.3915... Val Loss: 1.3863\n",
      "Epoch: 12/20... Step: 1560... Loss: 1.4063... Val Loss: 1.3838\n",
      "Epoch: 12/20... Step: 1570... Loss: 1.3504... Val Loss: 1.3863\n",
      "Epoch: 12/20... Step: 1580... Loss: 1.3357... Val Loss: 1.3844\n",
      "Epoch: 12/20... Step: 1590... Loss: 1.3376... Val Loss: 1.3829\n",
      "Epoch: 12/20... Step: 1600... Loss: 1.3481... Val Loss: 1.3847\n",
      "Epoch: 12/20... Step: 1610... Loss: 1.3531... Val Loss: 1.3822\n",
      "Epoch: 12/20... Step: 1620... Loss: 1.3428... Val Loss: 1.3787\n",
      "Epoch: 12/20... Step: 1630... Loss: 1.3770... Val Loss: 1.3790\n",
      "Epoch: 12/20... Step: 1640... Loss: 1.3419... Val Loss: 1.3806\n",
      "Epoch: 12/20... Step: 1650... Loss: 1.3150... Val Loss: 1.3791\n",
      "Epoch: 12/20... Step: 1660... Loss: 1.3727... Val Loss: 1.3738\n",
      "Epoch: 13/20... Step: 1670... Loss: 1.3530... Val Loss: 1.3745\n",
      "Epoch: 13/20... Step: 1680... Loss: 1.3504... Val Loss: 1.3736\n",
      "Epoch: 13/20... Step: 1690... Loss: 1.3309... Val Loss: 1.3695\n",
      "Epoch: 13/20... Step: 1700... Loss: 1.3329... Val Loss: 1.3665\n",
      "Epoch: 13/20... Step: 1710... Loss: 1.3099... Val Loss: 1.3684\n",
      "Epoch: 13/20... Step: 1720... Loss: 1.3221... Val Loss: 1.3692\n",
      "Epoch: 13/20... Step: 1730... Loss: 1.3650... Val Loss: 1.3667\n",
      "Epoch: 13/20... Step: 1740... Loss: 1.3189... Val Loss: 1.3688\n",
      "Epoch: 13/20... Step: 1750... Loss: 1.2950... Val Loss: 1.3665\n",
      "Epoch: 13/20... Step: 1760... Loss: 1.3299... Val Loss: 1.3605\n",
      "Epoch: 13/20... Step: 1770... Loss: 1.3529... Val Loss: 1.3636\n",
      "Epoch: 13/20... Step: 1780... Loss: 1.3215... Val Loss: 1.3662\n",
      "Epoch: 13/20... Step: 1790... Loss: 1.3059... Val Loss: 1.3587\n",
      "Epoch: 13/20... Step: 1800... Loss: 1.3340... Val Loss: 1.3575\n",
      "Epoch: 14/20... Step: 1810... Loss: 1.3367... Val Loss: 1.3589\n",
      "Epoch: 14/20... Step: 1820... Loss: 1.3185... Val Loss: 1.3545\n",
      "Epoch: 14/20... Step: 1830... Loss: 1.3301... Val Loss: 1.3535\n",
      "Epoch: 14/20... Step: 1840... Loss: 1.2871... Val Loss: 1.3522\n",
      "Epoch: 14/20... Step: 1850... Loss: 1.2759... Val Loss: 1.3534\n",
      "Epoch: 14/20... Step: 1860... Loss: 1.3235... Val Loss: 1.3512\n",
      "Epoch: 14/20... Step: 1870... Loss: 1.3387... Val Loss: 1.3502\n",
      "Epoch: 14/20... Step: 1880... Loss: 1.3148... Val Loss: 1.3488\n",
      "Epoch: 14/20... Step: 1890... Loss: 1.3367... Val Loss: 1.3484\n",
      "Epoch: 14/20... Step: 1900... Loss: 1.3131... Val Loss: 1.3422\n",
      "Epoch: 14/20... Step: 1910... Loss: 1.3193... Val Loss: 1.3463\n",
      "Epoch: 14/20... Step: 1920... Loss: 1.3113... Val Loss: 1.3451\n",
      "Epoch: 14/20... Step: 1930... Loss: 1.2753... Val Loss: 1.3419\n",
      "Epoch: 14/20... Step: 1940... Loss: 1.3252... Val Loss: 1.3390\n",
      "Epoch: 15/20... Step: 1950... Loss: 1.2985... Val Loss: 1.3379\n",
      "Epoch: 15/20... Step: 1960... Loss: 1.2988... Val Loss: 1.3329\n",
      "Epoch: 15/20... Step: 1970... Loss: 1.3013... Val Loss: 1.3318\n",
      "Epoch: 15/20... Step: 1980... Loss: 1.2758... Val Loss: 1.3331\n",
      "Epoch: 15/20... Step: 1990... Loss: 1.2892... Val Loss: 1.3299\n",
      "Epoch: 15/20... Step: 2000... Loss: 1.2717... Val Loss: 1.3355\n",
      "Epoch: 15/20... Step: 2010... Loss: 1.2953... Val Loss: 1.3268\n",
      "Epoch: 15/20... Step: 2020... Loss: 1.3125... Val Loss: 1.3293\n",
      "Epoch: 15/20... Step: 2030... Loss: 1.2763... Val Loss: 1.3273\n",
      "Epoch: 15/20... Step: 2040... Loss: 1.2890... Val Loss: 1.3231\n",
      "Epoch: 15/20... Step: 2050... Loss: 1.2796... Val Loss: 1.3278\n",
      "Epoch: 15/20... Step: 2060... Loss: 1.2815... Val Loss: 1.3248\n",
      "Epoch: 15/20... Step: 2070... Loss: 1.2849... Val Loss: 1.3232\n",
      "Epoch: 15/20... Step: 2080... Loss: 1.2837... Val Loss: 1.3193\n",
      "Epoch: 16/20... Step: 2090... Loss: 1.2998... Val Loss: 1.3244\n",
      "Epoch: 16/20... Step: 2100... Loss: 1.2762... Val Loss: 1.3187\n",
      "Epoch: 16/20... Step: 2110... Loss: 1.2627... Val Loss: 1.3169\n",
      "Epoch: 16/20... Step: 2120... Loss: 1.2712... Val Loss: 1.3224\n",
      "Epoch: 16/20... Step: 2130... Loss: 1.2610... Val Loss: 1.3179\n",
      "Epoch: 16/20... Step: 2140... Loss: 1.2590... Val Loss: 1.3180\n",
      "Epoch: 16/20... Step: 2150... Loss: 1.2923... Val Loss: 1.3141\n",
      "Epoch: 16/20... Step: 2160... Loss: 1.2632... Val Loss: 1.3136\n",
      "Epoch: 16/20... Step: 2170... Loss: 1.2751... Val Loss: 1.3134\n",
      "Epoch: 16/20... Step: 2180... Loss: 1.2641... Val Loss: 1.3108\n",
      "Epoch: 16/20... Step: 2190... Loss: 1.2880... Val Loss: 1.3127\n",
      "Epoch: 16/20... Step: 2200... Loss: 1.2607... Val Loss: 1.3106\n",
      "Epoch: 16/20... Step: 2210... Loss: 1.2185... Val Loss: 1.3087\n",
      "Epoch: 16/20... Step: 2220... Loss: 1.2764... Val Loss: 1.3127\n",
      "Epoch: 17/20... Step: 2230... Loss: 1.2455... Val Loss: 1.3126\n",
      "Epoch: 17/20... Step: 2240... Loss: 1.2548... Val Loss: 1.3061\n",
      "Epoch: 17/20... Step: 2250... Loss: 1.2443... Val Loss: 1.3129\n",
      "Epoch: 17/20... Step: 2260... Loss: 1.2477... Val Loss: 1.3071\n",
      "Epoch: 17/20... Step: 2270... Loss: 1.2607... Val Loss: 1.3030\n",
      "Epoch: 17/20... Step: 2280... Loss: 1.2582... Val Loss: 1.3017\n",
      "Epoch: 17/20... Step: 2290... Loss: 1.2542... Val Loss: 1.3050\n",
      "Epoch: 17/20... Step: 2300... Loss: 1.2250... Val Loss: 1.3013\n",
      "Epoch: 17/20... Step: 2310... Loss: 1.2452... Val Loss: 1.3004\n",
      "Epoch: 17/20... Step: 2320... Loss: 1.2373... Val Loss: 1.2989\n",
      "Epoch: 17/20... Step: 2330... Loss: 1.2322... Val Loss: 1.3075\n",
      "Epoch: 17/20... Step: 2340... Loss: 1.2497... Val Loss: 1.3016\n",
      "Epoch: 17/20... Step: 2350... Loss: 1.2646... Val Loss: 1.2999\n",
      "Epoch: 17/20... Step: 2360... Loss: 1.2670... Val Loss: 1.2974\n",
      "Epoch: 18/20... Step: 2370... Loss: 1.2326... Val Loss: 1.3004\n",
      "Epoch: 18/20... Step: 2380... Loss: 1.2402... Val Loss: 1.2932\n",
      "Epoch: 18/20... Step: 2390... Loss: 1.2318... Val Loss: 1.2973\n",
      "Epoch: 18/20... Step: 2400... Loss: 1.2574... Val Loss: 1.2947\n",
      "Epoch: 18/20... Step: 2410... Loss: 1.2541... Val Loss: 1.2977\n",
      "Epoch: 18/20... Step: 2420... Loss: 1.2332... Val Loss: 1.2901\n",
      "Epoch: 18/20... Step: 2430... Loss: 1.2497... Val Loss: 1.2904\n",
      "Epoch: 18/20... Step: 2440... Loss: 1.2251... Val Loss: 1.2902\n",
      "Epoch: 18/20... Step: 2450... Loss: 1.2179... Val Loss: 1.2915\n",
      "Epoch: 18/20... Step: 2460... Loss: 1.2368... Val Loss: 1.2914\n",
      "Epoch: 18/20... Step: 2470... Loss: 1.2364... Val Loss: 1.2969\n",
      "Epoch: 18/20... Step: 2480... Loss: 1.2369... Val Loss: 1.2897\n",
      "Epoch: 18/20... Step: 2490... Loss: 1.2128... Val Loss: 1.2858\n",
      "Epoch: 18/20... Step: 2500... Loss: 1.2249... Val Loss: 1.2852\n",
      "Epoch: 19/20... Step: 2510... Loss: 1.2323... Val Loss: 1.2922\n",
      "Epoch: 19/20... Step: 2520... Loss: 1.2375... Val Loss: 1.2914\n",
      "Epoch: 19/20... Step: 2530... Loss: 1.2364... Val Loss: 1.2900\n",
      "Epoch: 19/20... Step: 2540... Loss: 1.2488... Val Loss: 1.2828\n",
      "Epoch: 19/20... Step: 2550... Loss: 1.2170... Val Loss: 1.2852\n",
      "Epoch: 19/20... Step: 2560... Loss: 1.2268... Val Loss: 1.2814\n",
      "Epoch: 19/20... Step: 2570... Loss: 1.2071... Val Loss: 1.2871\n",
      "Epoch: 19/20... Step: 2580... Loss: 1.2567... Val Loss: 1.2826\n",
      "Epoch: 19/20... Step: 2590... Loss: 1.2193... Val Loss: 1.2818\n",
      "Epoch: 19/20... Step: 2600... Loss: 1.2118... Val Loss: 1.2803\n",
      "Epoch: 19/20... Step: 2610... Loss: 1.2049... Val Loss: 1.2826\n",
      "Epoch: 19/20... Step: 2620... Loss: 1.1994... Val Loss: 1.2844\n",
      "Epoch: 19/20... Step: 2630... Loss: 1.2095... Val Loss: 1.2788\n",
      "Epoch: 19/20... Step: 2640... Loss: 1.2277... Val Loss: 1.2805\n",
      "Epoch: 20/20... Step: 2650... Loss: 1.2206... Val Loss: 1.2845\n"
     ]
    },
    {
     "name": "stdout",
     "output_type": "stream",
     "text": [
      "Epoch: 20/20... Step: 2660... Loss: 1.2172... Val Loss: 1.2815\n",
      "Epoch: 20/20... Step: 2670... Loss: 1.2311... Val Loss: 1.2782\n",
      "Epoch: 20/20... Step: 2680... Loss: 1.2249... Val Loss: 1.2805\n",
      "Epoch: 20/20... Step: 2690... Loss: 1.2159... Val Loss: 1.2856\n",
      "Epoch: 20/20... Step: 2700... Loss: 1.2296... Val Loss: 1.2777\n",
      "Epoch: 20/20... Step: 2710... Loss: 1.1939... Val Loss: 1.2893\n",
      "Epoch: 20/20... Step: 2720... Loss: 1.1948... Val Loss: 1.2805\n",
      "Epoch: 20/20... Step: 2730... Loss: 1.1799... Val Loss: 1.2810\n",
      "Epoch: 20/20... Step: 2740... Loss: 1.1838... Val Loss: 1.2742\n",
      "Epoch: 20/20... Step: 2750... Loss: 1.1960... Val Loss: 1.2792\n",
      "Epoch: 20/20... Step: 2760... Loss: 1.1815... Val Loss: 1.2776\n",
      "Epoch: 20/20... Step: 2770... Loss: 1.2232... Val Loss: 1.2730\n",
      "Epoch: 20/20... Step: 2780... Loss: 1.2522... Val Loss: 1.2722\n"
     ]
    }
   ],
   "source": [
    "batch_size = 128\n",
    "seq_length = 100\n",
    "n_epochs =20  # start small if you are just testing initial behavior\n",
    "\n",
    "# train the model\n",
    "train(net, encoded, epochs=n_epochs, batch_size=batch_size, seq_length=seq_length, lr=0.001, print_every=10)"
   ]
  },
  {
   "cell_type": "markdown",
   "metadata": {},
   "source": [
    "## Getting the best model\n",
    "\n",
    "To set your hyperparameters to get the best performance, you'll want to watch the training and validation losses. If your training loss is much lower than the validation loss, you're overfitting. Increase regularization (more dropout) or use a smaller network. If the training and validation losses are close, you're underfitting so you can increase the size of the network."
   ]
  },
  {
   "cell_type": "markdown",
   "metadata": {},
   "source": [
    "## Hyperparameters\n",
    "\n",
    "Here are the hyperparameters for the network.\n",
    "\n",
    "In defining the model:\n",
    "* `n_hidden` - The number of units in the hidden layers.\n",
    "* `n_layers` - Number of hidden LSTM layers to use.\n",
    "\n",
    "We assume that dropout probability and learning rate will be kept at the default, in this example.\n",
    "\n",
    "And in training:\n",
    "* `batch_size` - Number of sequences running through the network in one pass.\n",
    "* `seq_length` - Number of characters in the sequence the network is trained on. Larger is better typically, the network will learn more long range dependencies. But it takes longer to train. 100 is typically a good number here.\n",
    "* `lr` - Learning rate for training\n",
    "\n",
    "Here's some good advice from Andrej Karpathy on training the network. I'm going to copy it in here for your benefit, but also link to [where it originally came from](https://github.com/karpathy/char-rnn#tips-and-tricks).\n",
    "\n",
    "> ## Tips and Tricks\n",
    "\n",
    ">### Monitoring Validation Loss vs. Training Loss\n",
    ">If you're somewhat new to Machine Learning or Neural Networks it can take a bit of expertise to get good models. The most important quantity to keep track of is the difference between your training loss (printed during training) and the validation loss (printed once in a while when the RNN is run on the validation data (by default every 1000 iterations)). In particular:\n",
    "\n",
    "> - If your training loss is much lower than validation loss then this means the network might be **overfitting**. Solutions to this are to decrease your network size, or to increase dropout. For example you could try dropout of 0.5 and so on.\n",
    "> - If your training/validation loss are about equal then your model is **underfitting**. Increase the size of your model (either number of layers or the raw number of neurons per layer)\n",
    "\n",
    "> ### Approximate number of parameters\n",
    "\n",
    "> The two most important parameters that control the model are `n_hidden` and `n_layers`. I would advise that you always use `n_layers` of either 2/3. The `n_hidden` can be adjusted based on how much data you have. The two important quantities to keep track of here are:\n",
    "\n",
    "> - The number of parameters in your model. This is printed when you start training.\n",
    "> - The size of your dataset. 1MB file is approximately 1 million characters.\n",
    "\n",
    ">These two should be about the same order of magnitude. It's a little tricky to tell. Here are some examples:\n",
    "\n",
    "> - I have a 100MB dataset and I'm using the default parameter settings (which currently print 150K parameters). My data size is significantly larger (100 mil >> 0.15 mil), so I expect to heavily underfit. I am thinking I can comfortably afford to make `n_hidden` larger.\n",
    "> - I have a 10MB dataset and running a 10 million parameter model. I'm slightly nervous and I'm carefully monitoring my validation loss. If it's larger than my training loss then I may want to try to increase dropout a bit and see if that helps the validation loss.\n",
    "\n",
    "> ### Best models strategy\n",
    "\n",
    ">The winning strategy to obtaining very good models (if you have the compute time) is to always err on making the network larger (as large as you're willing to wait for it to compute) and then try different dropout values (between 0,1). Whatever model has the best validation performance (the loss, written in the checkpoint filename, low is good) is the one you should use in the end.\n",
    "\n",
    ">It is very common in deep learning to run many different models with many different hyperparameter settings, and in the end take whatever checkpoint gave the best validation performance.\n",
    "\n",
    ">By the way, the size of your training and validation splits are also parameters. Make sure you have a decent amount of data in your validation set or otherwise the validation performance will be noisy and not very informative."
   ]
  },
  {
   "cell_type": "markdown",
   "metadata": {},
   "source": [
    "## Checkpoint\n",
    "\n",
    "After training, we'll save the model so we can load it again later if we need too. Here I'm saving the parameters needed to create the same architecture, the hidden layer hyperparameters and the text characters."
   ]
  },
  {
   "cell_type": "code",
   "execution_count": 17,
   "metadata": {},
   "outputs": [],
   "source": [
    "# change the name, for saving multiple files\n",
    "model_name = 'rnn_x_epoch.net'\n",
    "\n",
    "checkpoint = {'n_hidden': net.n_hidden,\n",
    "              'n_layers': net.n_layers,\n",
    "              'state_dict': net.state_dict(),\n",
    "              'tokens': net.chars}\n",
    "\n",
    "with open(model_name, 'wb') as f:\n",
    "    torch.save(checkpoint, f)"
   ]
  },
  {
   "cell_type": "markdown",
   "metadata": {},
   "source": [
    "---\n",
    "## Making Predictions\n",
    "\n",
    "Now that the model is trained, we'll want to sample from it and make predictions about next characters! To sample, we pass in a character and have the network predict the next character. Then we take that character, pass it back in, and get another predicted character. Just keep doing this and you'll generate a bunch of text!\n",
    "\n",
    "### A note on the `predict`  function\n",
    "\n",
    "The output of our RNN is from a fully-connected layer and it outputs a **distribution of next-character scores**.\n",
    "\n",
    "> To actually get the next character, we apply a softmax function, which gives us a *probability* distribution that we can then sample to predict the next character.\n",
    "\n",
    "### Top K sampling\n",
    "\n",
    "Our predictions come from a categorical probability distribution over all the possible characters. We can make the sample text and make it more reasonable to handle (with less variables) by only considering some $K$ most probable characters. This will prevent the network from giving us completely absurd characters while allowing it to introduce some noise and randomness into the sampled text. Read more about [topk, here](https://pytorch.org/docs/stable/torch.html#torch.topk).\n"
   ]
  },
  {
   "cell_type": "code",
   "execution_count": 18,
   "metadata": {},
   "outputs": [],
   "source": [
    "def predict(net, char, h=None, top_k=None):\n",
    "        ''' Given a character, predict the next character.\n",
    "            Returns the predicted character and the hidden state.\n",
    "        '''\n",
    "        \n",
    "        # tensor inputs\n",
    "        x = np.array([[net.char2int[char]]])\n",
    "        x = one_hot_encode(x, len(net.chars))\n",
    "        inputs = torch.from_numpy(x)\n",
    "        \n",
    "        if(train_on_gpu):\n",
    "            inputs = inputs.cuda()\n",
    "        \n",
    "        # detach hidden state from history\n",
    "        h = tuple([each.data for each in h])\n",
    "        # get the output of the model\n",
    "        out, h = net(inputs, h)\n",
    "\n",
    "        # get the character probabilities\n",
    "        p = F.softmax(out, dim=1).data\n",
    "        if(train_on_gpu):\n",
    "            p = p.cpu() # move to cpu\n",
    "        \n",
    "        # get top characters\n",
    "        if top_k is None:\n",
    "            top_ch = np.arange(len(net.chars))\n",
    "        else:\n",
    "            p, top_ch = p.topk(top_k)\n",
    "            top_ch = top_ch.numpy().squeeze()\n",
    "        \n",
    "        # select the likely next character with some element of randomness\n",
    "        p = p.numpy().squeeze()\n",
    "        char = np.random.choice(top_ch, p=p/p.sum())\n",
    "        \n",
    "        # return the encoded value of the predicted char and the hidden state\n",
    "        return net.int2char[char], h"
   ]
  },
  {
   "cell_type": "markdown",
   "metadata": {},
   "source": [
    "### Priming and generating text \n",
    "\n",
    "Typically you'll want to prime the network so you can build up a hidden state. Otherwise the network will start out generating characters at random. In general the first bunch of characters will be a little rough since it hasn't built up a long history of characters to predict from."
   ]
  },
  {
   "cell_type": "code",
   "execution_count": 19,
   "metadata": {},
   "outputs": [],
   "source": [
    "def sample(net, size, prime='The', top_k=None):\n",
    "        \n",
    "    if(train_on_gpu):\n",
    "        net.cuda()\n",
    "    else:\n",
    "        net.cpu()\n",
    "    \n",
    "    net.eval() # eval mode\n",
    "    \n",
    "    # First off, run through the prime characters\n",
    "    chars = [ch for ch in prime]\n",
    "    h = net.init_hidden(1)\n",
    "    for ch in prime:\n",
    "        char, h = predict(net, ch, h, top_k=top_k)\n",
    "\n",
    "    chars.append(char)\n",
    "    \n",
    "    # Now pass in the previous character and get a new one\n",
    "    for ii in range(size):\n",
    "        char, h = predict(net, chars[-1], h, top_k=top_k)\n",
    "        chars.append(char)\n",
    "\n",
    "    return ''.join(chars)"
   ]
  },
  {
   "cell_type": "code",
   "execution_count": 20,
   "metadata": {},
   "outputs": [
    {
     "name": "stdout",
     "output_type": "stream",
     "text": [
      "Anna,\n",
      "and tears of her softening--trappen them, but which, with this stalling\n",
      "things she was stalling the supposition and stood.\n",
      "\n",
      "There was nothing, he had said still more than any on the proncess and, and and\n",
      "almost straight out he had been fron the subjictions, who had been told\n",
      "her thinking. He was not any acquaintances, he wanted for his family.\n",
      "\n",
      "\"Well, will shon. The pryciples, that is not in the subject of\n",
      "his,\" she said, with a steps, smiling,\n",
      "was turning to his hands and was not a condition of the princess.\n",
      "\n",
      "The same proprest, the marshal of her self-desteries of the\n",
      "carriage and woman, he said she was to be settled, and say now\n",
      "that the most propertief in her feelish of the face of her feeling, but\n",
      "his\n",
      "face would say that she had all the steps were contracting\n",
      "in it. Anna crumpided on with to the peasants, and the painted horsest\n",
      "as he had seen the compases of his wife and saying all the convincence. He walked\n",
      "to him, thanked off his boots of her\n",
      "freedings with the support from a c\n"
     ]
    }
   ],
   "source": [
    "print(sample(net, 1000, prime='Anna', top_k=5))"
   ]
  },
  {
   "cell_type": "markdown",
   "metadata": {},
   "source": [
    "## Loading a checkpoint"
   ]
  },
  {
   "cell_type": "code",
   "execution_count": 21,
   "metadata": {},
   "outputs": [
    {
     "data": {
      "text/plain": [
       "<All keys matched successfully>"
      ]
     },
     "execution_count": 21,
     "metadata": {},
     "output_type": "execute_result"
    }
   ],
   "source": [
    "# Here we have loaded in a model that trained over 20 epochs `rnn_20_epoch.net`\n",
    "with open('rnn_x_epoch.net', 'rb') as f:\n",
    "    checkpoint = torch.load(f)\n",
    "    \n",
    "loaded = CharRNN(checkpoint['tokens'], n_hidden=checkpoint['n_hidden'], n_layers=checkpoint['n_layers'])\n",
    "loaded.load_state_dict(checkpoint['state_dict'])"
   ]
  },
  {
   "cell_type": "code",
   "execution_count": 22,
   "metadata": {},
   "outputs": [
    {
     "name": "stdout",
     "output_type": "stream",
     "text": [
      "And Levin said what\n",
      "a moments of the carriage, had been talking to the children's standing.\n",
      "\n",
      "After her his wife's hand and with a boy.\n",
      "\n",
      "\n",
      "\n",
      "Chapter 9\n",
      "\n",
      "\n",
      "At the carriage was a minute of anything that he were not simply, and\n",
      "and too and soon or such a mide of the position. The convortation on all\n",
      "subbight, the mother along the first moment he could not be delighted to the\n",
      "driving rangages of his hair. Sergey Ivanovitch was sitting in any\n",
      "sister of her hands, and wost his conversation to shook and was at\n",
      "the same and of his standates of the successful.\n",
      "\n",
      "The princess still did not have been as a such a father's foon were\n",
      "talking about themselves. She did not say that the children. The\n",
      "person went that something still had not but how he had been better thing to\n",
      "the could not be selented in all another to him.\n",
      "\n",
      "\"I have been to disagreeable in the face, and what was it say and such mony\n",
      "of me.\"\n",
      "\n",
      "\"You've never get the mare and the same while I see you, but is\n",
      "as that this way we've the measures as the propress, and I can't answer to her\n",
      "that I shall have through some sour to me to be the met of two months.\"\n",
      "\n",
      "The marsh had been always at the sense in an answor, he suddenly seemed to Anna and\n",
      "the day, and which she was a gray opprivior, that he was carried away\n",
      "with tone at the table, and the man, she went up to his hand. Sergey Ivanovitch\n",
      "saw his sister, smiling.\n",
      "\n",
      "\"As I talk to something was starting to her, but I wouldn't be so\n",
      "mack a doctor.\"\n",
      "\n",
      "\"No, now you don't know! What was the composion is since a perfect sight we\n",
      "marneller you what I want to speak of anything.\"\n",
      "\n",
      "\"Yes, it's a man who do you and see how I will be metting to the\n",
      "same time to be madal on a solity with machine.\"\n",
      "\n",
      "\"What is the princess as I don't see you and some son and I can\n",
      "desire a sort of,\" answered Varenka, and her husband showed the staty\n",
      "of the footman who had not could be true that there was no sertant\n",
      "few. She hunt to the same thing to say that he came\n",
      "to her, he would not help said, and thinking of their creatures\n"
     ]
    }
   ],
   "source": [
    "# Sample using a loaded model\n",
    "print(sample(loaded, 2000, top_k=5, prime=\"And Levin said\"))"
   ]
  },
  {
   "cell_type": "code",
   "execution_count": null,
   "metadata": {
    "collapsed": true
   },
   "outputs": [],
   "source": []
  }
 ],
 "metadata": {
  "kernelspec": {
   "display_name": "Python [conda env:envTest] *",
   "language": "python",
   "name": "conda-env-envTest-py"
  },
  "language_info": {
   "codemirror_mode": {
    "name": "ipython",
    "version": 3
   },
   "file_extension": ".py",
   "mimetype": "text/x-python",
   "name": "python",
   "nbconvert_exporter": "python",
   "pygments_lexer": "ipython3",
   "version": "3.8.2"
  }
 },
 "nbformat": 4,
 "nbformat_minor": 2
}
